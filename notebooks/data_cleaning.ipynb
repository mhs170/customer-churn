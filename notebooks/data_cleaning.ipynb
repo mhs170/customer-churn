{
 "cells": [
  {
   "cell_type": "code",
   "execution_count": 1,
   "metadata": {},
   "outputs": [],
   "source": [
    "import pandas as pd\n",
    "import numpy as np\n",
    "import os\n",
    "from scipy import stats\n",
    "from scipy.stats import zscore"
   ]
  },
  {
   "cell_type": "markdown",
   "metadata": {},
   "source": [
    "## Read the data file"
   ]
  },
  {
   "cell_type": "code",
   "execution_count": 2,
   "metadata": {},
   "outputs": [],
   "source": [
    "def load_data(file_path):\n",
    "    return pd.read_csv(file_path)"
   ]
  },
  {
   "cell_type": "markdown",
   "metadata": {},
   "source": [
    "## Find missing values"
   ]
  },
  {
   "cell_type": "code",
   "execution_count": 3,
   "metadata": {},
   "outputs": [],
   "source": [
    "def identify_missing_data(df):\n",
    "    missing_summary = df.isnull().sum()\n",
    "    missing_percentage = (missing_summary / len(df)) * 100\n",
    "    missing_report = pd.DataFrame({\n",
    "        'Missing Count': missing_summary,\n",
    "        'Missing Percentage': missing_percentage\n",
    "    })\n",
    "    print(\"Missing Data Report:\")\n",
    "    print(missing_report)\n",
    "    return missing_report"
   ]
  },
  {
   "cell_type": "markdown",
   "metadata": {},
   "source": [
    "## Drop rows with missing values"
   ]
  },
  {
   "cell_type": "code",
   "execution_count": 4,
   "metadata": {},
   "outputs": [],
   "source": [
    "def drop_missing(df, column):\n",
    "    df_cleaned = df.dropna(subset=['TotalCharges'])\n",
    "    print(f\"Rows removed due to missing TotalCharges: {len(df) - len(df_cleaned)}\")\n",
    "    return df_cleaned"
   ]
  },
  {
   "cell_type": "markdown",
   "metadata": {},
   "source": [
    "## Find and drop duplicates"
   ]
  },
  {
   "cell_type": "code",
   "execution_count": 5,
   "metadata": {},
   "outputs": [],
   "source": [
    "def find_duplicate_rows(df):\n",
    "    duplicate_mask = df.duplicated(keep=False)\n",
    "    duplicate_rows = df[duplicate_mask]\n",
    "    return duplicate_rows\n"
   ]
  },
  {
   "cell_type": "code",
   "execution_count": 6,
   "metadata": {},
   "outputs": [],
   "source": [
    "def drop_duplicates(df):\n",
    "    duplicate_count = df.duplicated().sum()\n",
    "    print(f\"Number of duplicates before dropping: {duplicate_count}\")\n",
    "    df = df.drop_duplicates()\n",
    "    return df, duplicate_count"
   ]
  },
  {
   "cell_type": "markdown",
   "metadata": {},
   "source": [
    "## Remove outliers"
   ]
  },
  {
   "cell_type": "code",
   "execution_count": 7,
   "metadata": {},
   "outputs": [],
   "source": [
    "def remove_outliers(df, column_name, threshold=3):\n",
    "    df['z_score'] = zscore(df[column_name])\n",
    "    original_row_count = len(df)\n",
    "    df_cleaned = df[df['z_score'].abs() <= threshold]\n",
    "    cleaned_row_count = len(df_cleaned)\n",
    "    rows_affected = original_row_count - cleaned_row_count\n",
    "    df_cleaned = df_cleaned.drop(columns=['z_score'])\n",
    "    print(f\"Number of rows affected by removing outliers: {rows_affected}\")\n",
    "    return df_cleaned"
   ]
  },
  {
   "cell_type": "markdown",
   "metadata": {},
   "source": [
    "## Find Data Types"
   ]
  },
  {
   "cell_type": "code",
   "execution_count": 8,
   "metadata": {},
   "outputs": [],
   "source": [
    "def get_dtypes(df):\n",
    "    return df.dtypes"
   ]
  },
  {
   "cell_type": "markdown",
   "metadata": {},
   "source": [
    "## Change data types"
   ]
  },
  {
   "cell_type": "code",
   "execution_count": 9,
   "metadata": {},
   "outputs": [],
   "source": [
    "# for total charges column\n",
    "\n",
    "def change_dtype(df, column, new_dtype):\n",
    "    df[column] = pd.to_numeric(df[column], errors='coerce').astype(new_dtype)\n",
    "    return df"
   ]
  },
  {
   "cell_type": "code",
   "execution_count": 9,
   "metadata": {},
   "outputs": [],
   "source": [
    "# for \n",
    "\n",
    "def change_dtype_to_bool(df, column, new_dtype):\n",
    "    df[column] = pd.to_numeric(df[column], errors='coerce').astype(new_dtype)\n",
    "    return df"
   ]
  },
  {
   "cell_type": "markdown",
   "metadata": {},
   "source": [
    "## Save cleaned data"
   ]
  },
  {
   "cell_type": "code",
   "execution_count": 10,
   "metadata": {},
   "outputs": [],
   "source": [
    "def save_data(df, file_path):\n",
    "    os.makedirs(os.path.dirname(file_path), exist_ok=True)  # Ensure the directory exists\n",
    "    df.to_csv(file_path, index=False)"
   ]
  },
  {
   "cell_type": "code",
   "execution_count": 11,
   "metadata": {},
   "outputs": [
    {
     "name": "stdout",
     "output_type": "stream",
     "text": [
      "Missing Data Report:\n",
      "                  Missing Count  Missing Percentage\n",
      "customerID                    0            0.000000\n",
      "gender                        0            0.000000\n",
      "SeniorCitizen                 0            0.000000\n",
      "Partner                       0            0.000000\n",
      "Dependents                    0            0.000000\n",
      "tenure                        0            0.000000\n",
      "PhoneService                  0            0.000000\n",
      "MultipleLines                 0            0.000000\n",
      "InternetService               0            0.000000\n",
      "OnlineSecurity                0            0.000000\n",
      "OnlineBackup                  0            0.000000\n",
      "DeviceProtection              0            0.000000\n",
      "TechSupport                   0            0.000000\n",
      "StreamingTV                   0            0.000000\n",
      "StreamingMovies               0            0.000000\n",
      "Contract                      0            0.000000\n",
      "PaperlessBilling              0            0.000000\n",
      "PaymentMethod                 0            0.000000\n",
      "MonthlyCharges                0            0.000000\n",
      "TotalCharges                 11            0.156183\n",
      "Churn                         0            0.000000\n",
      "Rows removed due to missing TotalCharges: 11\n",
      "Missing Data Report:\n",
      "                  Missing Count  Missing Percentage\n",
      "customerID                    0                 0.0\n",
      "gender                        0                 0.0\n",
      "SeniorCitizen                 0                 0.0\n",
      "Partner                       0                 0.0\n",
      "Dependents                    0                 0.0\n",
      "tenure                        0                 0.0\n",
      "PhoneService                  0                 0.0\n",
      "MultipleLines                 0                 0.0\n",
      "InternetService               0                 0.0\n",
      "OnlineSecurity                0                 0.0\n",
      "OnlineBackup                  0                 0.0\n",
      "DeviceProtection              0                 0.0\n",
      "TechSupport                   0                 0.0\n",
      "StreamingTV                   0                 0.0\n",
      "StreamingMovies               0                 0.0\n",
      "Contract                      0                 0.0\n",
      "PaperlessBilling              0                 0.0\n",
      "PaymentMethod                 0                 0.0\n",
      "MonthlyCharges                0                 0.0\n",
      "TotalCharges                  0                 0.0\n",
      "Churn                         0                 0.0\n",
      "Duplicate rows found:\n",
      "Number of duplicates before dropping: 0\n",
      "Number of duplicates removed: 0\n",
      "Number of rows affected by removing outliers: 0\n",
      "customerID           object\n",
      "gender               object\n",
      "SeniorCitizen         int64\n",
      "Partner              object\n",
      "Dependents           object\n",
      "tenure                int64\n",
      "PhoneService         object\n",
      "MultipleLines        object\n",
      "InternetService      object\n",
      "OnlineSecurity       object\n",
      "OnlineBackup         object\n",
      "DeviceProtection     object\n",
      "TechSupport          object\n",
      "StreamingTV          object\n",
      "StreamingMovies      object\n",
      "Contract             object\n",
      "PaperlessBilling     object\n",
      "PaymentMethod        object\n",
      "MonthlyCharges      float64\n",
      "TotalCharges        float64\n",
      "Churn                object\n",
      "dtype: object\n",
      "Number of rows affected by removing outliers: 0\n",
      "Cleaned data saved to /Users/mohammed/Downloads/customer churn/notebooks/../data/cleaned.csv\n"
     ]
    }
   ],
   "source": [
    "project_root = os.getcwd()  # Get the directory of this script\n",
    "raw_data_path = os.path.join(project_root, \"../data/raw.csv\")\n",
    "cleaned_data_path = os.path.join(project_root, \"../data/cleaned.csv\")\n",
    "\n",
    "# Load raw data\n",
    "raw_data = load_data(raw_data_path)\n",
    "\n",
    "df = change_dtype(raw_data, 'TotalCharges', 'float64')\n",
    "missing_report = identify_missing_data(raw_data)\n",
    "\n",
    "raw_data = drop_missing(raw_data, 'TotalCharges')\n",
    "missing_report = identify_missing_data(raw_data)\n",
    "duplicate_rows = find_duplicate_rows(raw_data)\n",
    "print(\"Duplicate rows found:\")\n",
    "raw_data, duplicate_count = drop_duplicates(raw_data)\n",
    "print(f\"Number of duplicates removed: {duplicate_count}\")\n",
    "\n",
    "raw_data = remove_outliers(raw_data, 'MonthlyCharges')\n",
    "\n",
    "\n",
    "print(get_dtypes(raw_data))\n",
    "\n",
    "raw_data.head()\n",
    "raw_data = remove_outliers(raw_data, 'TotalCharges')\n",
    "\n",
    "save_data(raw_data, cleaned_data_path)\n",
    "print(f\"Cleaned data saved to {cleaned_data_path}\")"
   ]
  },
  {
   "cell_type": "code",
   "execution_count": null,
   "metadata": {},
   "outputs": [],
   "source": []
  }
 ],
 "metadata": {
  "kernelspec": {
   "display_name": "Python 3 (ipykernel)",
   "language": "python",
   "name": "python3"
  },
  "language_info": {
   "codemirror_mode": {
    "name": "ipython",
    "version": 3
   },
   "file_extension": ".py",
   "mimetype": "text/x-python",
   "name": "python",
   "nbconvert_exporter": "python",
   "pygments_lexer": "ipython3",
   "version": "3.13.1"
  }
 },
 "nbformat": 4,
 "nbformat_minor": 4
}
